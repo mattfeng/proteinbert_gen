{
 "cells": [
  {
   "cell_type": "code",
   "execution_count": 1,
   "id": "97071e57-b307-4a19-a990-ecfbd2c1a8d0",
   "metadata": {},
   "outputs": [],
   "source": [
    "%load_ext autoreload\n",
    "%autoreload 2"
   ]
  },
  {
   "cell_type": "code",
   "execution_count": 6,
   "id": "b18948a8-4c32-4733-b4fe-471a3ab10df8",
   "metadata": {},
   "outputs": [],
   "source": [
    "from Bio import SeqIO\n",
    "import csv\n",
    "\n",
    "import tqdm\n",
    "import pickle\n",
    "from torch.utils.data import DataLoader\n",
    "\n",
    "# import proteinbert_gen.constants as consts\n",
    "from proteinbert_gen.tokenizer import ProteinTokenizer\n",
    "from proteinbert_gen.dataset import sprot_train"
   ]
  },
  {
   "cell_type": "code",
   "execution_count": 5,
   "id": "a2018645-2254-448e-a5c7-1fcd538d2ac1",
   "metadata": {
    "scrolled": true
   },
   "outputs": [],
   "source": [
    "ofile = \"../data/uniprot_sprot_1m.csv\"\n",
    "\n",
    "debug = False\n",
    "count = 0\n",
    "max_count = 1_000_000\n",
    "min_len = 10\n",
    "max_len = 510 # 512 - 2 (i.e. start + end)\n",
    "tokenizer = ProteinTokenizer()\n",
    "\n",
    "with open(ofile, \"w\", newline=\"\") as fout, open(\"/data/protein-modeling/uniprot/uniprot_sprot.dat\") as f:\n",
    "    writer = csv.writer(fout)\n",
    "    \n",
    "    for record in SeqIO.parse(f, \"swiss\"):\n",
    "        if len(record.seq) > max_len:\n",
    "            continue\n",
    "        if len(record.seq) < min_len:\n",
    "            continue\n",
    "\n",
    "        if not tokenizer.is_valid_seq(record.seq):\n",
    "            continue\n",
    "\n",
    "        count += 1\n",
    "\n",
    "        if debug:\n",
    "            print(record.id, record.seq[:32])\n",
    "            # record.annotations[\"protein_existence\"]; https://www.uniprot.org/help/protein_existence\n",
    "        pid, seq = record.id, record.seq\n",
    "        desc = record.annotations.get(\"comment\", \"<NO_DATA>\")\n",
    "\n",
    "        writer.writerow([count, pid, seq, desc])\n",
    "        \n",
    "        if count > max_count:\n",
    "            break"
   ]
  },
  {
   "cell_type": "code",
   "execution_count": 7,
   "id": "df333012-a027-4767-b71a-23543b3fbc65",
   "metadata": {},
   "outputs": [
    {
     "name": "stderr",
     "output_type": "stream",
     "text": [
      "100%|███████████████████████████████████████████████████████████████████████████| 325230/325230 [00:04<00:00, 69307.81it/s]"
     ]
    },
    {
     "name": "stdout",
     "output_type": "stream",
     "text": [
      "{'A': 7230031, 'C': 1124625, 'D': 4463802, 'E': 5439173, 'F': 3237405, 'G': 6113797, 'H': 1878744, 'I': 5098187, 'K': 4810102, 'L': 8086525, 'M': 2096564, 'N': 3206475, 'P': 3758540, 'Q': 3079117, 'R': 4652322, 'S': 5085484, 'T': 4357979, 'U': 226, 'V': 5903758, 'W': 893809, 'X': 4038, 'Y': 2415353, '&': 0, '^': 0, '$': 0, '_': 0}\n"
     ]
    },
    {
     "name": "stderr",
     "output_type": "stream",
     "text": [
      "\n"
     ]
    }
   ],
   "source": [
    "# generate word freq dictionary\n",
    "# word_freq = torch.zeros((consts.VOCAB_SIZE,), dtype=torch.int64)\n",
    "word_freq = {token: 0 for token in tokenizer.ALL_TOKENS}\n",
    "\n",
    "for data in tqdm.tqdm(sprot_train):\n",
    "    # print(data[\"seq\"])\n",
    "    for aa in data[\"seq\"]:\n",
    "        word_freq[aa] += 1\n",
    "\n",
    "print(word_freq)\n",
    "\n",
    "with open(\"../data/sprot_1m_word_freq_dict.pkl\", \"wb\") as f:\n",
    "    pickle.dump(word_freq, f)"
   ]
  },
  {
   "cell_type": "code",
   "execution_count": 6,
   "id": "f241d846-eadc-4e2d-bd83-0abbc5f46a0b",
   "metadata": {},
   "outputs": [
    {
     "data": {
      "text/plain": [
       "325340"
      ]
     },
     "execution_count": 6,
     "metadata": {},
     "output_type": "execute_result"
    }
   ],
   "source": [
    "len(sprot_train)"
   ]
  },
  {
   "cell_type": "code",
   "execution_count": null,
   "id": "ed36b45f-44f9-4c28-a84a-d093f74769cb",
   "metadata": {},
   "outputs": [],
   "source": []
  },
  {
   "cell_type": "code",
   "execution_count": null,
   "id": "0019e3f6-799a-4c22-aa78-b13bf3905417",
   "metadata": {},
   "outputs": [],
   "source": []
  }
 ],
 "metadata": {
  "kernelspec": {
   "display_name": "Python 3 (ipykernel)",
   "language": "python",
   "name": "python3"
  },
  "language_info": {
   "codemirror_mode": {
    "name": "ipython",
    "version": 3
   },
   "file_extension": ".py",
   "mimetype": "text/x-python",
   "name": "python",
   "nbconvert_exporter": "python",
   "pygments_lexer": "ipython3",
   "version": "3.11.7"
  }
 },
 "nbformat": 4,
 "nbformat_minor": 5
}
