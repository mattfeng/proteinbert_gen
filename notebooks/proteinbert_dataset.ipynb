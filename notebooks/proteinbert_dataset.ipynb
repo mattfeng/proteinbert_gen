{
 "cells": [
  {
   "cell_type": "code",
   "execution_count": 1,
   "id": "97071e57-b307-4a19-a990-ecfbd2c1a8d0",
   "metadata": {},
   "outputs": [],
   "source": [
    "%load_ext autoreload\n",
    "%autoreload 2"
   ]
  },
  {
   "cell_type": "code",
   "execution_count": 2,
   "id": "b18948a8-4c32-4733-b4fe-471a3ab10df8",
   "metadata": {},
   "outputs": [],
   "source": [
    "from Bio import SeqIO\n",
    "import csv\n",
    "\n",
    "import tqdm\n",
    "import pickle\n",
    "from torch.utils.data import DataLoader\n",
    "\n",
    "import proteinbert_gen.constants as consts\n",
    "from proteinbert_gen.dataset import sprot_train"
   ]
  },
  {
   "cell_type": "code",
   "execution_count": 12,
   "id": "a2018645-2254-448e-a5c7-1fcd538d2ac1",
   "metadata": {},
   "outputs": [],
   "source": [
    "ofile = \"../data/uniprot_sprot_1m.csv\"\n",
    "\n",
    "debug = False\n",
    "count = 0\n",
    "max_count = 1_000_000\n",
    "min_len = 10\n",
    "max_len = 510 # 512 - 2 (i.e. start + end)\n",
    "\n",
    "def valid_aas(seq):\n",
    "    for aa in seq:\n",
    "        if aa not in consts.ALL_AAS_SET:\n",
    "            return False\n",
    "    return True\n",
    "    \n",
    "with open(ofile, \"w\", newline=\"\") as fout, open(\"/data/protein-modeling/uniprot/uniprot_sprot.dat\") as f:\n",
    "    writer = csv.writer(fout)\n",
    "    \n",
    "    for record in SeqIO.parse(f, \"swiss\"):\n",
    "        if len(record.seq) > max_len:\n",
    "            continue\n",
    "        if len(record.seq) < min_len:\n",
    "            continue\n",
    "\n",
    "        if not valid_aas(record.seq):\n",
    "            continue\n",
    "\n",
    "        count += 1\n",
    "\n",
    "        if debug:\n",
    "            print(record.id, record.seq[:32])\n",
    "            # record.annotations[\"protein_existence\"]; https://www.uniprot.org/help/protein_existence\n",
    "        pid, seq = record.id, record.seq\n",
    "        desc = record.annotations.get(\"comment\", \"<NO_DATA>\")\n",
    "\n",
    "        writer.writerow([count, pid, seq, desc])\n",
    "        \n",
    "        if count > max_count:\n",
    "            break"
   ]
  },
  {
   "cell_type": "code",
   "execution_count": 13,
   "id": "df333012-a027-4767-b71a-23543b3fbc65",
   "metadata": {},
   "outputs": [
    {
     "name": "stderr",
     "output_type": "stream",
     "text": [
      "  4%|██▋                                                                         | 11664/325340 [00:00<00:05, 61892.41it/s]\n"
     ]
    },
    {
     "ename": "KeyError",
     "evalue": "'B'",
     "output_type": "error",
     "traceback": [
      "\u001b[0;31m---------------------------------------------------------------------------\u001b[0m",
      "\u001b[0;31mKeyError\u001b[0m                                  Traceback (most recent call last)",
      "Cell \u001b[0;32mIn[13], line 8\u001b[0m\n\u001b[1;32m      5\u001b[0m \u001b[38;5;28;01mfor\u001b[39;00m data \u001b[38;5;129;01min\u001b[39;00m tqdm\u001b[38;5;241m.\u001b[39mtqdm(sprot_train):\n\u001b[1;32m      6\u001b[0m     \u001b[38;5;66;03m# print(data[\"seq\"])\u001b[39;00m\n\u001b[1;32m      7\u001b[0m     \u001b[38;5;28;01mfor\u001b[39;00m aa \u001b[38;5;129;01min\u001b[39;00m data[\u001b[38;5;124m\"\u001b[39m\u001b[38;5;124mseq\u001b[39m\u001b[38;5;124m\"\u001b[39m]:\n\u001b[0;32m----> 8\u001b[0m         \u001b[43mword_freq\u001b[49m\u001b[43m[\u001b[49m\u001b[43maa\u001b[49m\u001b[43m]\u001b[49m \u001b[38;5;241m+\u001b[39m\u001b[38;5;241m=\u001b[39m \u001b[38;5;241m1\u001b[39m\n\u001b[1;32m     10\u001b[0m \u001b[38;5;28mprint\u001b[39m(word_freq)\n\u001b[1;32m     12\u001b[0m \u001b[38;5;28;01mwith\u001b[39;00m \u001b[38;5;28mopen\u001b[39m(\u001b[38;5;124m\"\u001b[39m\u001b[38;5;124m../data/sprot_1m_word_freq_dict.pkl\u001b[39m\u001b[38;5;124m\"\u001b[39m, \u001b[38;5;124m\"\u001b[39m\u001b[38;5;124mwb\u001b[39m\u001b[38;5;124m\"\u001b[39m) \u001b[38;5;28;01mas\u001b[39;00m f:\n",
      "\u001b[0;31mKeyError\u001b[0m: 'B'"
     ]
    }
   ],
   "source": [
    "# generate word freq dictionary\n",
    "# word_freq = torch.zeros((consts.VOCAB_SIZE,), dtype=torch.int64)\n",
    "word_freq = {token: 0 for token in consts.ALL_TOKENS}\n",
    "\n",
    "for data in tqdm.tqdm(sprot_train):\n",
    "    # print(data[\"seq\"])\n",
    "    for aa in data[\"seq\"]:\n",
    "        word_freq[aa] += 1\n",
    "\n",
    "print(word_freq)\n",
    "\n",
    "with open(\"../data/sprot_1m_word_freq_dict.pkl\", \"wb\") as f:\n",
    "    pickle.dump(word_freq, f)"
   ]
  },
  {
   "cell_type": "code",
   "execution_count": 6,
   "id": "f241d846-eadc-4e2d-bd83-0abbc5f46a0b",
   "metadata": {},
   "outputs": [
    {
     "data": {
      "text/plain": [
       "325340"
      ]
     },
     "execution_count": 6,
     "metadata": {},
     "output_type": "execute_result"
    }
   ],
   "source": [
    "len(sprot_train)"
   ]
  },
  {
   "cell_type": "code",
   "execution_count": null,
   "id": "ed36b45f-44f9-4c28-a84a-d093f74769cb",
   "metadata": {},
   "outputs": [],
   "source": []
  },
  {
   "cell_type": "code",
   "execution_count": null,
   "id": "0019e3f6-799a-4c22-aa78-b13bf3905417",
   "metadata": {},
   "outputs": [],
   "source": []
  }
 ],
 "metadata": {
  "kernelspec": {
   "display_name": "Python 3 (ipykernel)",
   "language": "python",
   "name": "python3"
  },
  "language_info": {
   "codemirror_mode": {
    "name": "ipython",
    "version": 3
   },
   "file_extension": ".py",
   "mimetype": "text/x-python",
   "name": "python",
   "nbconvert_exporter": "python",
   "pygments_lexer": "ipython3",
   "version": "3.11.7"
  }
 },
 "nbformat": 4,
 "nbformat_minor": 5
}
