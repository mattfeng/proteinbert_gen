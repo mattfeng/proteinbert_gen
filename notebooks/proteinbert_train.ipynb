{
 "cells": [
  {
   "cell_type": "code",
   "execution_count": 2,
   "id": "51e5a8ca-9eae-41a7-a1be-cde0d463b5bd",
   "metadata": {},
   "outputs": [],
   "source": [
    "%load_ext autoreload\n",
    "%autoreload 2"
   ]
  },
  {
   "cell_type": "code",
   "execution_count": 7,
   "id": "8ecf403a-9e4d-48a3-9673-9b35a73c1542",
   "metadata": {},
   "outputs": [],
   "source": [
    "import abc\n",
    "import torch\n",
    "\n",
    "import proteinbert_gen.constants as consts\n",
    "\n",
    "from proteinbert_gen.word_freq import create_word_freq_tensor"
   ]
  },
  {
   "cell_type": "code",
   "execution_count": 1,
   "id": "ae28cd3c-6a7d-4602-802f-bdba23dbc6d4",
   "metadata": {},
   "outputs": [],
   "source": [
    "def word_freq_preprocess_fn(wf):\n",
    "    wf = wf + 1\n",
    "    wf = wf.log()\n",
    "    wf = wf / wf.max()\n",
    "\n",
    "    # range: 0 - 1\n",
    "    return wf\n",
    "\n",
    "def process_fn_in_collate(wf):\n",
    "    return wf - wf.mean()"
   ]
  },
  {
   "cell_type": "code",
   "execution_count": 10,
   "id": "b83dd244-dd97-4ccf-8d32-9554b309d5f1",
   "metadata": {},
   "outputs": [],
   "source": [
    "wf_tensor = create_word_freq_tensor(\"../data/sprot_1m_word_freq_dict.pkl\", consts.ALL_TOKENS)\n",
    "wf_tensor = word_freq_preprocess_fn(wf_tensor)"
   ]
  },
  {
   "cell_type": "code",
   "execution_count": 11,
   "id": "b25c1e97-5098-459e-bf4f-758188bbf481",
   "metadata": {},
   "outputs": [
    {
     "data": {
      "text/plain": [
       "tensor([0.9930, 0.8761, 0.9626, 0.9751, 0.9425, 0.9825, 0.9083, 0.9710, 0.9673,\n",
       "        1.0000, 0.9151, 0.9419, 0.9519, 0.9393, 0.9653, 0.9709, 0.9612, 0.3391,\n",
       "        0.9802, 0.8617, 0.5234, 0.9241, 0.0000, 0.0000, 0.0000, 0.0000])"
      ]
     },
     "execution_count": 11,
     "metadata": {},
     "output_type": "execute_result"
    }
   ],
   "source": [
    "wf_tensor"
   ]
  },
  {
   "cell_type": "code",
   "execution_count": 9,
   "id": "178e9acb-8320-4ef8-8f97-907446412932",
   "metadata": {},
   "outputs": [],
   "source": [
    "class SampleClassBase(abc.ABC):\n",
    "    def sample(self, logits, x_0):\n",
    "        raise NotImplementedError\n",
    "\n",
    "    def post_process_sample_in_prediction(self, sample, x_0):\n",
    "        return sample\n",
    "\n",
    "\n",
    "class Categorical(SampleClassBase):\n",
    "    def sample(self, logits, x_0):\n",
    "        return torch.distributions.categorical.Categorical(logits=logits).sample()"
   ]
  },
  {
   "cell_type": "code",
   "execution_count": null,
   "id": "9ddc04c6-8aeb-416a-a825-77e930ce4e40",
   "metadata": {},
   "outputs": [],
   "source": []
  }
 ],
 "metadata": {
  "kernelspec": {
   "display_name": "Python 3 (ipykernel)",
   "language": "python",
   "name": "python3"
  },
  "language_info": {
   "codemirror_mode": {
    "name": "ipython",
    "version": 3
   },
   "file_extension": ".py",
   "mimetype": "text/x-python",
   "name": "python",
   "nbconvert_exporter": "python",
   "pygments_lexer": "ipython3",
   "version": "3.11.7"
  }
 },
 "nbformat": 4,
 "nbformat_minor": 5
}
