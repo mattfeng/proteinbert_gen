{
 "cells": [
  {
   "cell_type": "code",
   "execution_count": 11,
   "id": "e51200ef-240d-422b-a9c1-b97ddb1e7948",
   "metadata": {},
   "outputs": [],
   "source": [
    "import torch\n",
    "import argparse"
   ]
  },
  {
   "cell_type": "code",
   "execution_count": 12,
   "id": "26f1a8e7-451c-42ba-9f6b-535c22c1e6c6",
   "metadata": {},
   "outputs": [],
   "source": [
    "def set_seed(args):\n",
    "    random.seed(args.seed)\n",
    "    np.random.seed(args.seed)\n",
    "    torch.manual_seed(args.seed)\n",
    "    if torch.cuda.is_available():\n",
    "        torch.cuda.manual_seed_all(args.seed)"
   ]
  },
  {
   "cell_type": "code",
   "execution_count": 13,
   "id": "9a0f5507-17fd-478f-8703-43d48144cf2e",
   "metadata": {},
   "outputs": [],
   "source": [
    "def parse_args():\n",
    "    parser = argparse.ArgumentParser()\n",
    "\n",
    "    parser.add_argument(\"--model_name_or_path\", default='bert-base-uncased', type=str, required=False)\n",
    "    parser.add_argument(\"--task_name\", default='lm1b', type=str, required=False)\n",
    "    parser.add_argument(\"--lr\", default=5e-4, type=float, required=False)\n",
    "    parser.add_argument(\"--epochs\", default=3, type=int, required=False)\n",
    "    parser.add_argument(\"--batch_size\", default=64, type=int, required=False)\n",
    "    parser.add_argument(\"--word_freq_lambda\", default=0.3, type=float, required=False)\n",
    "    parser.add_argument(\"--num_steps\", default=2048, type=int, required=False)\n",
    "    parser.add_argument(\"--eval_step_size\", default=4, type=int, required=False)\n",
    "    parser.add_argument(\"--dev_size\", default=5e-4, type=float, required=False)\n",
    "    parser.add_argument(\"--hybrid_lambda\", default=1e-2, type=float, required=False)\n",
    "    parser.add_argument(\"--eval_steps\", default=15000, type=int, required=False)\n",
    "    parser.add_argument(\"--seed\", default=42, type=int, required=False)\n",
    "    # parser.add_argument(\"--device\", default='cuda:0', type=str, required=False)\n",
    "    parser.add_argument(\"--logging_steps\", default=1000, type=int, required=False)\n",
    "    parser.add_argument('--predict_x0', default=True, type=bool, required=False)\n",
    "    parser.add_argument(\"--load_step\", default=-1, type=int, required=False)\n",
    "    parser.add_argument(\"--sample_strategy\", default='Categorical', type=str, required=False)\n",
    "    parser.add_argument(\"--schedule\", default='mutual', type=str, required=False)\n",
    "    parser.add_argument(\"--from_scratch\", default=False, type=bool, required=False)\n",
    "    parser.add_argument(\"--timestep\", default='none', type=str, required=False)\n",
    "    # parser.add_argument(\"--local_rank\", default=-1)\n",
    "    return parser.parse_args()"
   ]
  },
  {
   "cell_type": "code",
   "execution_count": 15,
   "id": "8a4bc8a9-c2e9-4be0-9af2-adaa907b11e7",
   "metadata": {},
   "outputs": [
    {
     "name": "stderr",
     "output_type": "stream",
     "text": [
      "usage: ipykernel_launcher.py [-h] [--model_name_or_path MODEL_NAME_OR_PATH]\n",
      "                             [--task_name TASK_NAME] [--lr LR]\n",
      "                             [--epochs EPOCHS] [--batch_size BATCH_SIZE]\n",
      "                             [--word_freq_lambda WORD_FREQ_LAMBDA]\n",
      "                             [--num_steps NUM_STEPS]\n",
      "                             [--eval_step_size EVAL_STEP_SIZE]\n",
      "                             [--dev_size DEV_SIZE]\n",
      "                             [--hybrid_lambda HYBRID_LAMBDA]\n",
      "                             [--eval_steps EVAL_STEPS] [--seed SEED]\n",
      "                             [--logging_steps LOGGING_STEPS]\n",
      "                             [--predict_x0 PREDICT_X0] [--load_step LOAD_STEP]\n",
      "                             [--sample_strategy SAMPLE_STRATEGY]\n",
      "                             [--schedule SCHEDULE]\n",
      "                             [--from_scratch FROM_SCRATCH]\n",
      "                             [--timestep TIMESTEP]\n",
      "ipykernel_launcher.py: error: unrecognized arguments: -f /home/matt/.local/share/jupyter/runtime/kernel-b61d0c3d-2ed3-4d06-89de-737afeafb954.json\n"
     ]
    },
    {
     "ename": "SystemExit",
     "evalue": "2",
     "output_type": "error",
     "traceback": [
      "An exception has occurred, use %tb to see the full traceback.\n",
      "\u001b[0;31mSystemExit\u001b[0m\u001b[0;31m:\u001b[0m 2\n"
     ]
    },
    {
     "name": "stderr",
     "output_type": "stream",
     "text": [
      "/home/matt/.miniforge3/envs/proteinbert_gen/lib/python3.11/site-packages/IPython/core/interactiveshell.py:3585: UserWarning: To exit: use 'exit', 'quit', or Ctrl-D.\n",
      "  warn(\"To exit: use 'exit', 'quit', or Ctrl-D.\", stacklevel=1)\n"
     ]
    }
   ],
   "source": [
    "args = parse_args()\n",
    "local_rank = int(os.environ['LOCAL_RANK'])\n",
    "device = torch.device(\"cuda\", local_rank)\n",
    "\n",
    "torch.cuda.set_device(local_rank)\n",
    "dist.init_process_group(backend='nccl', timeout=datetime.timedelta(seconds=9600))"
   ]
  },
  {
   "cell_type": "code",
   "execution_count": null,
   "id": "3af4cb3f-4e22-45d3-af94-006c7b9fe7fd",
   "metadata": {},
   "outputs": [],
   "source": []
  },
  {
   "cell_type": "code",
   "execution_count": 11,
   "id": "a8b46e19",
   "metadata": {},
   "outputs": [],
   "source": [
    "import torch\n",
    "import argparse"
   ]
  },
  {
   "cell_type": "code",
   "execution_count": 12,
   "id": "39346378",
   "metadata": {},
   "outputs": [],
   "source": [
    "def set_seed(args):\n",
    "    random.seed(args.seed)\n",
    "    np.random.seed(args.seed)\n",
    "    torch.manual_seed(args.seed)\n",
    "    if torch.cuda.is_available():\n",
    "        torch.cuda.manual_seed_all(args.seed)"
   ]
  },
  {
   "cell_type": "code",
   "execution_count": 13,
   "id": "c8f3a372",
   "metadata": {},
   "outputs": [],
   "source": [
    "def parse_args():\n",
    "    parser = argparse.ArgumentParser()\n",
    "\n",
    "    parser.add_argument(\"--model_name_or_path\", default='bert-base-uncased', type=str, required=False)\n",
    "    parser.add_argument(\"--task_name\", default='lm1b', type=str, required=False)\n",
    "    parser.add_argument(\"--lr\", default=5e-4, type=float, required=False)\n",
    "    parser.add_argument(\"--epochs\", default=3, type=int, required=False)\n",
    "    parser.add_argument(\"--batch_size\", default=64, type=int, required=False)\n",
    "    parser.add_argument(\"--word_freq_lambda\", default=0.3, type=float, required=False)\n",
    "    parser.add_argument(\"--num_steps\", default=2048, type=int, required=False)\n",
    "    parser.add_argument(\"--eval_step_size\", default=4, type=int, required=False)\n",
    "    parser.add_argument(\"--dev_size\", default=5e-4, type=float, required=False)\n",
    "    parser.add_argument(\"--hybrid_lambda\", default=1e-2, type=float, required=False)\n",
    "    parser.add_argument(\"--eval_steps\", default=15000, type=int, required=False)\n",
    "    parser.add_argument(\"--seed\", default=42, type=int, required=False)\n",
    "    # parser.add_argument(\"--device\", default='cuda:0', type=str, required=False)\n",
    "    parser.add_argument(\"--logging_steps\", default=1000, type=int, required=False)\n",
    "    parser.add_argument('--predict_x0', default=True, type=bool, required=False)\n",
    "    parser.add_argument(\"--load_step\", default=-1, type=int, required=False)\n",
    "    parser.add_argument(\"--sample_strategy\", default='Categorical', type=str, required=False)\n",
    "    parser.add_argument(\"--schedule\", default='mutual', type=str, required=False)\n",
    "    parser.add_argument(\"--from_scratch\", default=False, type=bool, required=False)\n",
    "    parser.add_argument(\"--timestep\", default='none', type=str, required=False)\n",
    "    # parser.add_argument(\"--local_rank\", default=-1)\n",
    "    return parser.parse_args()"
   ]
  },
  {
   "cell_type": "code",
   "execution_count": 15,
   "id": "bf6cf164",
   "metadata": {},
   "outputs": [
    {
     "name": "stderr",
     "output_type": "stream",
     "text": [
      "usage: ipykernel_launcher.py [-h] [--model_name_or_path MODEL_NAME_OR_PATH]\n",
      "                             [--task_name TASK_NAME] [--lr LR]\n",
      "                             [--epochs EPOCHS] [--batch_size BATCH_SIZE]\n",
      "                             [--word_freq_lambda WORD_FREQ_LAMBDA]\n",
      "                             [--num_steps NUM_STEPS]\n",
      "                             [--eval_step_size EVAL_STEP_SIZE]\n",
      "                             [--dev_size DEV_SIZE]\n",
      "                             [--hybrid_lambda HYBRID_LAMBDA]\n",
      "                             [--eval_steps EVAL_STEPS] [--seed SEED]\n",
      "                             [--logging_steps LOGGING_STEPS]\n",
      "                             [--predict_x0 PREDICT_X0] [--load_step LOAD_STEP]\n",
      "                             [--sample_strategy SAMPLE_STRATEGY]\n",
      "                             [--schedule SCHEDULE]\n",
      "                             [--from_scratch FROM_SCRATCH]\n",
      "                             [--timestep TIMESTEP]\n",
      "ipykernel_launcher.py: error: unrecognized arguments: -f /home/matt/.local/share/jupyter/runtime/kernel-b61d0c3d-2ed3-4d06-89de-737afeafb954.json\n"
     ]
    },
    {
     "ename": "SystemExit",
     "evalue": "2",
     "output_type": "error",
     "traceback": [
      "An exception has occurred, use %tb to see the full traceback.\n",
      "\u001b[0;31mSystemExit\u001b[0m\u001b[0;31m:\u001b[0m 2\n"
     ]
    },
    {
     "name": "stderr",
     "output_type": "stream",
     "text": [
      "/home/matt/.miniforge3/envs/proteinbert_gen/lib/python3.11/site-packages/IPython/core/interactiveshell.py:3585: UserWarning: To exit: use 'exit', 'quit', or Ctrl-D.\n",
      "  warn(\"To exit: use 'exit', 'quit', or Ctrl-D.\", stacklevel=1)\n"
     ]
    }
   ],
   "source": [
    "args = parse_args()\n",
    "local_rank = int(os.environ['LOCAL_RANK'])\n",
    "device = torch.device(\"cuda\", local_rank)\n",
    "\n",
    "torch.cuda.set_device(local_rank)\n",
    "dist.init_process_group(backend='nccl', timeout=datetime.timedelta(seconds=9600))"
   ]
  },
  {
   "cell_type": "code",
   "execution_count": null,
   "id": "e4b7198b",
   "metadata": {},
   "outputs": [],
   "source": []
  }
 ],
 "metadata": {
  "kernelspec": {
   "display_name": "Python 3 (ipykernel)",
   "language": "python",
   "name": "python3"
  },
  "language_info": {
   "codemirror_mode": {
    "name": "ipython",
    "version": 3
   },
   "file_extension": ".py",
   "mimetype": "text/x-python",
   "name": "python",
   "nbconvert_exporter": "python",
   "pygments_lexer": "ipython3",
   "version": "3.11.7"
  }
 },
 "nbformat": 4,
 "nbformat_minor": 5
}
