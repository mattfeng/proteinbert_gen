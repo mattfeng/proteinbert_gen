{
 "cells": [
  {
   "cell_type": "code",
   "execution_count": 13,
   "id": "16c02b87-3bab-4701-b349-d0b592b6ba6e",
   "metadata": {},
   "outputs": [],
   "source": [
    "import abc\n",
    "\n",
    "import torch\n",
    "\n",
    "from functools import partial\n",
    "\n",
    "from proteinbert_gen.proteinbert import ProteinBERT\n",
    "from proteinbert_gen.tokenizer import ProteinTokenizer\n",
    "from proteinbert_gen.constants import GO_ANN_SIZE\n",
    "\n",
    "from proteinbert_gen.word_freq import create_word_freq_tensor\n",
    "import proteinbert_gen.mask_diffusion as mask_diffusion"
   ]
  },
  {
   "cell_type": "code",
   "execution_count": 14,
   "id": "1b4c366f-892c-4817-925a-a91262aece30",
   "metadata": {},
   "outputs": [
    {
     "data": {
      "text/plain": [
       "ProteinBERT(\n",
       "  (embed_local): Embedding(26, 128)\n",
       "  (embed_global): Sequential(\n",
       "    (0): Linear(in_features=8943, out_features=512, bias=True)\n",
       "    (1): GELU(approximate='none')\n",
       "  )\n",
       "  (blocks): ModuleList(\n",
       "    (0-5): 6 x TransformerLikeBlock(\n",
       "      (wide_and_narrow_conv1d): ConvBlock(\n",
       "        (conv_narrow): Sequential(\n",
       "          (0): Rearrange('b l d -> b d l')\n",
       "          (1): Conv1d(128, 128, kernel_size=(9,), stride=(1,), padding=same)\n",
       "          (2): GELU(approximate='none')\n",
       "          (3): Rearrange('b d l -> b l d')\n",
       "        )\n",
       "        (conv_wide): Sequential(\n",
       "          (0): Rearrange('b l d -> b d l')\n",
       "          (1): Conv1d(128, 128, kernel_size=(9,), stride=(1,), padding=same, dilation=(5,))\n",
       "          (2): GELU(approximate='none')\n",
       "          (3): Rearrange('b d l -> b l d')\n",
       "        )\n",
       "      )\n",
       "      (dense_and_broadcast): Sequential(\n",
       "        (0): Linear(in_features=512, out_features=128, bias=True)\n",
       "        (1): GELU(approximate='none')\n",
       "        (2): Rearrange('b d -> b () d')\n",
       "      )\n",
       "      (local_ln1): LayerNorm((128,), eps=1e-05, elementwise_affine=True)\n",
       "      (local_dense): Sequential(\n",
       "        (0): Residual(\n",
       "          (fn): Sequential(\n",
       "            (0): Linear(in_features=128, out_features=128, bias=True)\n",
       "            (1): GELU(approximate='none')\n",
       "          )\n",
       "        )\n",
       "        (1): LayerNorm((128,), eps=1e-05, elementwise_affine=True)\n",
       "      )\n",
       "      (global_dense1): Sequential(\n",
       "        (0): Linear(in_features=512, out_features=512, bias=True)\n",
       "        (1): GELU(approximate='none')\n",
       "      )\n",
       "      (global_attention): GlobalAttention(\n",
       "        (to_q): Sequential(\n",
       "          (0): Linear(in_features=512, out_features=256, bias=False)\n",
       "          (1): Tanh()\n",
       "        )\n",
       "        (to_k): Sequential(\n",
       "          (0): Linear(in_features=128, out_features=256, bias=False)\n",
       "          (1): Tanh()\n",
       "        )\n",
       "        (to_v): Sequential(\n",
       "          (0): Linear(in_features=128, out_features=512, bias=False)\n",
       "          (1): GELU(approximate='none')\n",
       "        )\n",
       "      )\n",
       "      (global_ln1): LayerNorm((512,), eps=1e-05, elementwise_affine=True)\n",
       "      (global_dense2): Sequential(\n",
       "        (0): Residual(\n",
       "          (fn): Sequential(\n",
       "            (0): Linear(in_features=512, out_features=512, bias=True)\n",
       "            (1): GELU(approximate='none')\n",
       "          )\n",
       "        )\n",
       "        (1): LayerNorm((512,), eps=1e-05, elementwise_affine=True)\n",
       "      )\n",
       "    )\n",
       "  )\n",
       "  (local_head): Sequential(\n",
       "    (0): Linear(in_features=128, out_features=26, bias=True)\n",
       "  )\n",
       "  (global_head): Sequential(\n",
       "    (0): Linear(in_features=512, out_features=8943, bias=True)\n",
       "    (1): Sigmoid()\n",
       "  )\n",
       ")"
      ]
     },
     "execution_count": 14,
     "metadata": {},
     "output_type": "execute_result"
    }
   ],
   "source": [
    "tokenizer = ProteinTokenizer()\n",
    "\n",
    "model = ProteinBERT(tokenizer.vocab_size, GO_ANN_SIZE)\n",
    "model.load_state_dict(torch.load(\"../checkpoints/northern-wind-52-postepoch-8.pt\"))\n",
    "model.eval()"
   ]
  },
  {
   "cell_type": "code",
   "execution_count": 25,
   "id": "50b90e96-9aaa-4fc5-94ed-fb5c72a327b8",
   "metadata": {},
   "outputs": [
    {
     "name": "stdout",
     "output_type": "stream",
     "text": [
      "using standard schedule with num_steps: 4096.\n"
     ]
    }
   ],
   "source": [
    "def denoise(targets, timestep, attention_mask, *, model):\n",
    "    ret = model(targets)\n",
    "    return ret\n",
    "\n",
    "\n",
    "denoise_fn = partial(denoise, model=model)\n",
    "sample_cls = Categorical()\n",
    "\n",
    "diffusion_schedule = mask_diffusion.create_discrete_diffusion_schedule(num_steps=4096)\n",
    "diffusion_instance = mask_diffusion.MaskDiffusion(\n",
    "    dim=tokenizer.vocab_size,\n",
    "    schedule=diffusion_schedule,\n",
    "    tokenizer=tokenizer,\n",
    "    device=\"cpu\"\n",
    ")"
   ]
  },
  {
   "cell_type": "code",
   "execution_count": 33,
   "id": "a051d764-6918-4e0f-8296-7a8610d687e5",
   "metadata": {},
   "outputs": [
    {
     "name": "stdout",
     "output_type": "stream",
     "text": [
      "P^SFHVFYAVEMHDRMHAGRGFAQEWQMNLNYCYMLVFDHATKFFNSRAMNSCEAMFAVITTGFCQSEQNCGYRVLLYIAFKNETVGERGHCRIDGRDQLIEMYKVPGCFGEAINPDIMIVRERIPHEFVEEEERDDVMRVNGMEDKNLIQEQADRKRICFEIMEDIQDEQIQEMMAIEGNDNRPEKCQDAFDIFRDPRKDPRCKKIRQLQNVPEIKVNFEAAIIYGFNVVNINFEYFRWQYVMNKIIVEITNQAEEENQNQDEIKEVVRQHPGNLPNYVQWKVYKGCVKYFNGEGVFDG\n"
     ]
    }
   ],
   "source": [
    "generated = mask_diffusion.discrete_diffusion_predict_fn((1, 300), denoise_fn, diffusion_instance, temperature=2.0, topk=8, topp=1.0)\n",
    "for g in generated[\"final_state\"].tolist():\n",
    "    print(tokenizer.untokenize(g))"
   ]
  },
  {
   "cell_type": "code",
   "execution_count": null,
   "id": "4a137d14-d4ce-4d36-8285-ea0b423484a9",
   "metadata": {},
   "outputs": [],
   "source": []
  }
 ],
 "metadata": {
  "kernelspec": {
   "display_name": "Python 3 (ipykernel)",
   "language": "python",
   "name": "python3"
  },
  "language_info": {
   "codemirror_mode": {
    "name": "ipython",
    "version": 3
   },
   "file_extension": ".py",
   "mimetype": "text/x-python",
   "name": "python",
   "nbconvert_exporter": "python",
   "pygments_lexer": "ipython3",
   "version": "3.11.7"
  }
 },
 "nbformat": 4,
 "nbformat_minor": 5
}
